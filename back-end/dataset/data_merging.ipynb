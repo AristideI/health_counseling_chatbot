{
 "cells": [
  {
   "cell_type": "markdown",
   "metadata": {},
   "source": [
    "# Merging Different datasets into one"
   ]
  },
  {
   "cell_type": "code",
   "execution_count": 139,
   "metadata": {},
   "outputs": [],
   "source": [
    "import pandas as pd"
   ]
  },
  {
   "cell_type": "markdown",
   "metadata": {},
   "source": [
    "## Dataset 1"
   ]
  },
  {
   "cell_type": "code",
   "execution_count": 140,
   "metadata": {},
   "outputs": [],
   "source": [
    "data_1 = pd.read_json(\n",
    "    \"hf://datasets/Amod/mental_health_counseling_conversations/combined_dataset.json\",\n",
    "    lines=True,\n",
    ")"
   ]
  },
  {
   "cell_type": "code",
   "execution_count": 141,
   "metadata": {},
   "outputs": [
    {
     "name": "stdout",
     "output_type": "stream",
     "text": [
      "(3512, 2)\n",
      "                                             Context  \\\n",
      "0  I'm going through some things with my feelings...   \n",
      "1  I'm going through some things with my feelings...   \n",
      "2  I'm going through some things with my feelings...   \n",
      "3  I'm going through some things with my feelings...   \n",
      "4  I'm going through some things with my feelings...   \n",
      "\n",
      "                                            Response  \n",
      "0  If everyone thinks you're worthless, then mayb...  \n",
      "1  Hello, and thank you for your question and see...  \n",
      "2  First thing I'd suggest is getting the sleep y...  \n",
      "3  Therapy is essential for those that are feelin...  \n",
      "4  I first want to let you know that you are not ...  \n"
     ]
    }
   ],
   "source": [
    "print(data_1.shape)\n",
    "print(data_1.head())"
   ]
  },
  {
   "cell_type": "code",
   "execution_count": 142,
   "metadata": {},
   "outputs": [],
   "source": [
    "# Select first 2500 rows\n",
    "sampled_data = data_1.iloc[:3000]\n",
    "\n",
    "# Rename columns for consistency\n",
    "sampled_data = sampled_data.rename(\n",
    "    columns={\"Context\": \"context\", \"Response\": \"response\"}\n",
    ")\n",
    "\n",
    "# Save to CSV\n",
    "sampled_data.to_csv(\"dataset.csv\", index=False)"
   ]
  },
  {
   "cell_type": "markdown",
   "metadata": {},
   "source": [
    "## Dataset 2"
   ]
  },
  {
   "cell_type": "code",
   "execution_count": 143,
   "metadata": {},
   "outputs": [],
   "source": [
    "data_2 = pd.read_json(\"hf://datasets/marmikpandya/mental-health/data.jsonl\", lines=True)"
   ]
  },
  {
   "cell_type": "code",
   "execution_count": 144,
   "metadata": {},
   "outputs": [
    {
     "name": "stdout",
     "output_type": "stream",
     "text": [
      "(1, 13358)\n",
      "                                               0      \\\n",
      "0  {'instruction': 'If you are a licensed psychol...   \n",
      "\n",
      "                                               1      \\\n",
      "0  {'instruction': 'If you are a licensed psychol...   \n",
      "\n",
      "                                               2      \\\n",
      "0  {'instruction': 'If you are a licensed psychol...   \n",
      "\n",
      "                                               3      \\\n",
      "0  {'instruction': 'If you are a licensed psychol...   \n",
      "\n",
      "                                               4      \\\n",
      "0  {'instruction': 'If you are a licensed psychol...   \n",
      "\n",
      "                                               5      \\\n",
      "0  {'instruction': 'If you are a licensed psychol...   \n",
      "\n",
      "                                               6      \\\n",
      "0  {'instruction': 'If you are a licensed psychol...   \n",
      "\n",
      "                                               7      \\\n",
      "0  {'instruction': 'If you are a licensed psychol...   \n",
      "\n",
      "                                               8      \\\n",
      "0  {'instruction': 'If you are a licensed psychol...   \n",
      "\n",
      "                                               9      ...  \\\n",
      "0  {'instruction': 'If you are a licensed psychol...  ...   \n",
      "\n",
      "                                               13348  \\\n",
      "0  {'instruction': 'If you are a licensed psychol...   \n",
      "\n",
      "                                               13349  \\\n",
      "0  {'instruction': 'If you are a licensed psychol...   \n",
      "\n",
      "                                               13350  \\\n",
      "0  {'instruction': 'If you are a licensed psychol...   \n",
      "\n",
      "                                               13351  \\\n",
      "0  {'instruction': 'If you are a licensed psychol...   \n",
      "\n",
      "                                               13352  \\\n",
      "0  {'instruction': 'If you are a licensed psychol...   \n",
      "\n",
      "                                               13353  \\\n",
      "0  {'instruction': 'If you are a licensed psychol...   \n",
      "\n",
      "                                               13354  \\\n",
      "0  {'instruction': 'If you are a licensed psychol...   \n",
      "\n",
      "                                               13355  \\\n",
      "0  {'instruction': 'If you are a licensed psychol...   \n",
      "\n",
      "                                               13356  \\\n",
      "0  {'instruction': 'If you are a licensed psychol...   \n",
      "\n",
      "                                               13357  \n",
      "0  {'instruction': 'If you are a licensed psychol...  \n",
      "\n",
      "[1 rows x 13358 columns]\n"
     ]
    }
   ],
   "source": [
    "print(data_2.shape)\n",
    "print(data_2)\n"
   ]
  },
  {
   "cell_type": "code",
   "execution_count": 145,
   "metadata": {},
   "outputs": [
    {
     "name": "stdout",
     "output_type": "stream",
     "text": [
      "(13358, 1)\n",
      "                                                   0\n",
      "0  {'instruction': 'If you are a licensed psychol...\n",
      "1  {'instruction': 'If you are a licensed psychol...\n",
      "2  {'instruction': 'If you are a licensed psychol...\n",
      "3  {'instruction': 'If you are a licensed psychol...\n",
      "4  {'instruction': 'If you are a licensed psychol...\n",
      "                                             context  \\\n",
      "0  If you are a licensed psychologist, please pro...   \n",
      "1  If you are a licensed psychologist, please pro...   \n",
      "2  If you are a licensed psychologist, please pro...   \n",
      "3  If you are a licensed psychologist, please pro...   \n",
      "4  If you are a licensed psychologist, please pro...   \n",
      "\n",
      "                                            response  \n",
      "0  It's common to feel anxious at times, and ther...  \n",
      "1  It's understandable to feel worried and suspic...  \n",
      "2  It sounds like you're going through a difficul...  \n",
      "3  It's important to talk to your doctor about an...  \n",
      "4  It's common to feel anxious without knowing th...  \n"
     ]
    }
   ],
   "source": [
    "# Transpose the DataFrame to get proper rows\n",
    "data_2 = data_2.T.reset_index(drop=True)  # Fix structure\n",
    "\n",
    "# Debugging: Print new structure\n",
    "print(data_2.shape)  # Should now be (13358, 1) with properly structured rows\n",
    "print(data_2.head())  # Check if each row has {'instruction', 'input', 'output'}\n",
    "\n",
    "# Extract relevant fields and limit to 2500 rows\n",
    "processed_data_2 = pd.DataFrame(\n",
    "    {\n",
    "        \"context\": data_2[0].apply(lambda x: f\"{x['instruction']} {x['input']}\"),\n",
    "        \"response\": data_2[0].apply(lambda x: x[\"output\"]),\n",
    "    }\n",
    ").iloc[\n",
    "    :3000\n",
    "]  # Take first 2500 rows\n",
    "\n",
    "# Debugging: Check extracted data\n",
    "print(processed_data_2.head())\n",
    "\n",
    "# Load the existing dataset\n",
    "dataset = pd.read_csv(\"dataset.csv\")\n",
    "\n",
    "# Append new data\n",
    "dataset = pd.concat([dataset, processed_data_2], ignore_index=True)\n",
    "\n",
    "# Save the updated dataset\n",
    "dataset.to_csv(\"dataset.csv\", index=False)"
   ]
  },
  {
   "cell_type": "markdown",
   "metadata": {},
   "source": [
    "## Dataset 3"
   ]
  },
  {
   "cell_type": "code",
   "execution_count": 146,
   "metadata": {},
   "outputs": [],
   "source": [
    "splits = {\n",
    "    \"train\": \"data/train-00000-of-00001.parquet\",\n",
    "    \"test\": \"data/test-00000-of-00001.parquet\",\n",
    "}\n",
    "data_3 = pd.read_parquet(\n",
    "    \"hf://datasets/ramachaitanya22/mental_health_and_fitness_data/\" + splits[\"train\"]\n",
    ")"
   ]
  },
  {
   "cell_type": "code",
   "execution_count": 147,
   "metadata": {},
   "outputs": [
    {
     "name": "stdout",
     "output_type": "stream",
     "text": [
      "(3552, 2)\n",
      "                                               Human  \\\n",
      "0  can you provide tips for maintaining fitness w...   \n",
      "1  I start counseling/therapy in a few days (I'm ...   \n",
      "2  How do you know you have the right therapist f...   \n",
      "3  Every time I send a message to someone or a gr...   \n",
      "4  I have so many issues to address. I have a his...   \n",
      "\n",
      "                                           Assistant  \n",
      "0  fitness on the go pack resistance bands explor...  \n",
      "1  Lots of people do cry in session, but your the...  \n",
      "2  This is a really important question, because y...  \n",
      "3  Sorry to hear your friends aren't responding t...  \n",
      "4  You do not have too many issues to address in ...  \n"
     ]
    }
   ],
   "source": [
    "print(data_3.shape)\n",
    "print(data_3.head())"
   ]
  },
  {
   "cell_type": "code",
   "execution_count": 148,
   "metadata": {},
   "outputs": [],
   "source": [
    "# Select first 3000 rows and rename columns\n",
    "processed_data_3 = data_3.iloc[:3000].rename(\n",
    "    columns={\"Human\": \"context\", \"Assistant\": \"response\"}\n",
    ")\n",
    "\n",
    "# Load the existing dataset\n",
    "dataset = pd.read_csv(\"dataset.csv\")\n",
    "\n",
    "# Append new data\n",
    "dataset = pd.concat([dataset, processed_data_3], ignore_index=True)\n",
    "\n",
    "# Save the updated dataset\n",
    "dataset.to_csv(\"dataset.csv\", index=False)"
   ]
  },
  {
   "cell_type": "code",
   "execution_count": 149,
   "metadata": {},
   "outputs": [
    {
     "data": {
      "text/plain": [
       "(9000, 2)"
      ]
     },
     "execution_count": 149,
     "metadata": {},
     "output_type": "execute_result"
    }
   ],
   "source": [
    "combined_data = pd.read_csv(\"dataset.csv\")\n",
    "combined_data.shape"
   ]
  },
  {
   "cell_type": "code",
   "execution_count": 150,
   "metadata": {},
   "outputs": [
    {
     "data": {
      "text/plain": [
       "(9000, 2)"
      ]
     },
     "execution_count": 150,
     "metadata": {},
     "output_type": "execute_result"
    }
   ],
   "source": [
    "combined_data.shape"
   ]
  },
  {
   "cell_type": "code",
   "execution_count": null,
   "metadata": {},
   "outputs": [],
   "source": []
  }
 ],
 "metadata": {
  "kernelspec": {
   "display_name": "health_councelling",
   "language": "python",
   "name": "python3"
  },
  "language_info": {
   "codemirror_mode": {
    "name": "ipython",
    "version": 3
   },
   "file_extension": ".py",
   "mimetype": "text/x-python",
   "name": "python",
   "nbconvert_exporter": "python",
   "pygments_lexer": "ipython3",
   "version": "3.11.11"
  }
 },
 "nbformat": 4,
 "nbformat_minor": 2
}
